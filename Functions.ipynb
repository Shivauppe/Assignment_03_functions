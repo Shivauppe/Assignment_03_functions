{
  "nbformat": 4,
  "nbformat_minor": 0,
  "metadata": {
    "colab": {
      "provenance": [],
      "authorship_tag": "ABX9TyM94aO5X7Tc2sT/yMd0bOSz",
      "include_colab_link": true
    },
    "kernelspec": {
      "name": "python3",
      "display_name": "Python 3"
    },
    "language_info": {
      "name": "python"
    }
  },
  "cells": [
    {
      "cell_type": "markdown",
      "metadata": {
        "id": "view-in-github",
        "colab_type": "text"
      },
      "source": [
        "<a href=\"https://colab.research.google.com/github/Shivauppe/Assignment_03_functions/blob/main/Functions.ipynb\" target=\"_parent\"><img src=\"https://colab.research.google.com/assets/colab-badge.svg\" alt=\"Open In Colab\"/></a>"
      ]
    },
    {
      "cell_type": "markdown",
      "source": [
        "#Difference between function and method in python explain with one example"
      ],
      "metadata": {
        "id": "C0gJPJg6_1mn"
      }
    },
    {
      "cell_type": "markdown",
      "source": [
        "1. Function:\n",
        "A function is a standalone block of code that performs a specific task.\n",
        "It is not bound to any object or class and can be called directly.\n",
        "Defined using the def keyword and can be invoked independently.\n",
        "2. Method:\n",
        "A method is a function that is associated with a class or object.\n",
        "It is defined inside a class and is called on an instance (object) of that class.\n",
        "The first parameter of a method is always self, which refers to the object calling the method."
      ],
      "metadata": {
        "id": "pqCTgOhz_ygS"
      }
    },
    {
      "cell_type": "code",
      "execution_count": null,
      "metadata": {
        "colab": {
          "base_uri": "https://localhost:8080/"
        },
        "id": "y1dFOYAk-mzQ",
        "outputId": "d1e91bdc-e65a-4960-9882-f8cc92fadc94"
      },
      "outputs": [
        {
          "output_type": "stream",
          "name": "stdout",
          "text": [
            "Hello, Hello Shivanand Uppe!\n",
            "Hello, Hello Shiva!\n"
          ]
        }
      ],
      "source": [
        "# Function definition\n",
        "def greet_function(name):\n",
        "    return f\"Hello, {name}!\"\n",
        "\n",
        "# Method inside a class\n",
        "class Greeter:\n",
        "    def greet_method(self, name):\n",
        "        return f\"Hello, {name}!\"\n",
        "\n",
        "# Calling the function\n",
        "print(greet_function(\"Hello Shivanand Uppe\"))\n",
        "\n",
        "# Creating an instance of the class\n",
        "greeter_obj = Greeter()\n",
        "\n",
        "# Calling the method on the instance\n",
        "print(greeter_obj.greet_method(\"Hello Shiva\"))\n",
        "\n"
      ]
    },
    {
      "cell_type": "markdown",
      "source": [
        "#Function:\n",
        "\n",
        "# greet_function is a function defined outside of any class.\n",
        "It takes an argument name and returns a greeting.\n",
        "You can call it directly without creating any objects: greet_function(\"Alice\").\n",
        "\n",
        "# Method:\n",
        "greet_method is defined inside the class Greeter.\n",
        "It takes self as the first parameter, which refers to the instance of the class.\n",
        "To call greet_method, you need to create an object (instance) of Greeter first (greeter_obj = Greeter()), then call the method on that object: greeter_obj.greet_method(\"Bob\").\n",
        "\n",
        "#Key Differences in the Example:\n",
        "\n",
        "#Function:\n",
        "You call greet_function(\"Alice\") directly without needing an object.\n",
        "\n",
        "#Method:\n",
        "You call greet_method(\"Bob\") on an object instance (greeter_obj.greet_method(\"Bob\")), and the method operates on the specific instance (self) of the class."
      ],
      "metadata": {
        "id": "JOr14SHWAW3w"
      }
    },
    {
      "cell_type": "markdown",
      "source": [
        "## **Explain the concept of function arguments and parameters in python**"
      ],
      "metadata": {
        "id": "vwQ34SBrBSvn"
      }
    },
    {
      "cell_type": "markdown",
      "source": [
        "1. Parameters:\n",
        "Parameters are placeholders for the values that a function expects to receive when it's called.\n",
        "They are defined in the function definition.\n",
        "Parameters specify the inputs the function can work with, but they don’t have values until the function is called.\n",
        "2. Arguments:\n",
        "Arguments are the actual values or data that you pass to the function when you call it.\n",
        "These values get assigned to the function’s parameters."
      ],
      "metadata": {
        "id": "29HJN-3PBhTB"
      }
    },
    {
      "cell_type": "code",
      "source": [
        "# Function with parameters 'a' and 'b'\n",
        "def add(a, b):\n",
        "    return a + b\n",
        "\n",
        "# Calling the function with arguments 3 and 5\n",
        "result = add(3, 5)\n",
        "print(result)\n"
      ],
      "metadata": {
        "colab": {
          "base_uri": "https://localhost:8080/"
        },
        "id": "tE2TAvCVAJdQ",
        "outputId": "6adc087c-71a4-46e5-f009-2a8156a80d87"
      },
      "execution_count": null,
      "outputs": [
        {
          "output_type": "stream",
          "name": "stdout",
          "text": [
            "8\n"
          ]
        }
      ]
    },
    {
      "cell_type": "markdown",
      "source": [
        "Types of Function Arguments:\n",
        "Python supports several types of arguments that you can pass to a function. They allow you to call functions in flexible ways.\n",
        "\n",
        ". Positional Arguments:\n",
        "These are the most common types of arguments, where the order in which you pass them matters.\n",
        "The values passed are assigned to parameters in the order they are defined"
      ],
      "metadata": {
        "id": "lDV8EeGYFmRB"
      }
    },
    {
      "cell_type": "code",
      "source": [
        "def greet(name, message):\n",
        "    print(f\"{message}, {name}!\")\n",
        "\n",
        "greet(\"Shivanand\", \"Hello\")\n"
      ],
      "metadata": {
        "colab": {
          "base_uri": "https://localhost:8080/"
        },
        "id": "Zwd_F_uOFrH2",
        "outputId": "fcc55e28-60de-43b7-97c1-9956d5a2fd38"
      },
      "execution_count": null,
      "outputs": [
        {
          "output_type": "stream",
          "name": "stdout",
          "text": [
            "Hello, Shivanand!\n"
          ]
        }
      ]
    },
    {
      "cell_type": "markdown",
      "source": [
        "2. Keyword Arguments:\n",
        "You can explicitly specify which argument goes to which parameter by using the parameter name during the function call.\n",
        "The order of arguments doesn’t matter if you use keyword arguments"
      ],
      "metadata": {
        "id": "Z9CW22HkFwoI"
      }
    },
    {
      "cell_type": "code",
      "source": [
        "greet(name=\"Bob\", message=\"Hi\")  # Output: Hi, Bob!\n",
        "greet(message=\"Welcome\", name=\"Charlie\")  # Output: Welcome, Charlie!\n"
      ],
      "metadata": {
        "colab": {
          "base_uri": "https://localhost:8080/"
        },
        "id": "eV36JPJDFxf4",
        "outputId": "5161a667-a00e-4a37-c547-ca3c01275f7e"
      },
      "execution_count": null,
      "outputs": [
        {
          "output_type": "stream",
          "name": "stdout",
          "text": [
            "Hi, Bob!\n",
            "Welcome, Charlie!\n"
          ]
        }
      ]
    },
    {
      "cell_type": "markdown",
      "source": [
        "3. Default Arguments:\n",
        "You can define default values for parameters. If an argument is not provided during the function call, the default value will be used."
      ],
      "metadata": {
        "id": "3qI2gT18F3nA"
      }
    },
    {
      "cell_type": "code",
      "source": [
        "def greet(name, message=\"Hello\"):\n",
        "    print(f\"{message}, {name}!\")\n",
        "\n",
        "greet(\"Alice\")  # Output: Hello, Alice!\n",
        "greet(\"Bob\", \"Hi\")  # Output: Hi, Bob!\n"
      ],
      "metadata": {
        "colab": {
          "base_uri": "https://localhost:8080/"
        },
        "id": "vDJEKGDvF5mh",
        "outputId": "805e124d-0386-4ccd-b00e-ee680c3c0e00"
      },
      "execution_count": null,
      "outputs": [
        {
          "output_type": "stream",
          "name": "stdout",
          "text": [
            "Hello, Alice!\n",
            "Hi, Bob!\n"
          ]
        }
      ]
    },
    {
      "cell_type": "markdown",
      "source": [
        "Variable-Length Arguments:\n",
        "*args: Used to pass a variable number of positional arguments to a function. It allows the function to accept any number of arguments."
      ],
      "metadata": {
        "id": "FHyTc2iSGAiK"
      }
    },
    {
      "cell_type": "code",
      "source": [
        "def sum_all(*args):\n",
        "    return sum(args)\n",
        "\n",
        "print(sum_all(1, 2, 3))  # Output: 6\n",
        "print(sum_all(4, 5, 6, 7))  # Output: 22\n"
      ],
      "metadata": {
        "colab": {
          "base_uri": "https://localhost:8080/"
        },
        "id": "73wZr0cLGCVr",
        "outputId": "71a7d462-a92e-4dd6-e022-812beb8ad434"
      },
      "execution_count": null,
      "outputs": [
        {
          "output_type": "stream",
          "name": "stdout",
          "text": [
            "6\n",
            "22\n"
          ]
        }
      ]
    },
    {
      "cell_type": "markdown",
      "source": [
        "**kwargs: Used to pass a variable number of keyword arguments to a function. It lets you provide multiple keyword arguments dynamically."
      ],
      "metadata": {
        "id": "CO14NY46GQS9"
      }
    },
    {
      "cell_type": "code",
      "source": [
        "def display_info(**kwargs):\n",
        "    for key, value in kwargs.items():\n",
        "        print(f\"{key}: {value}\")\n",
        "\n",
        "display_info(name=\"Alice\", age=30, city=\"New York\")\n"
      ],
      "metadata": {
        "colab": {
          "base_uri": "https://localhost:8080/"
        },
        "id": "S59hV0CaGRCl",
        "outputId": "24786ed0-9dbc-455e-9879-a424a9c4f7e3"
      },
      "execution_count": null,
      "outputs": [
        {
          "output_type": "stream",
          "name": "stdout",
          "text": [
            "name: Alice\n",
            "age: 30\n",
            "city: New York\n"
          ]
        }
      ]
    },
    {
      "cell_type": "code",
      "source": [],
      "metadata": {
        "id": "UcU78ICiajX7"
      },
      "execution_count": null,
      "outputs": []
    },
    {
      "cell_type": "markdown",
      "source": [
        "### ***What are the different ways to define and call a function ***"
      ],
      "metadata": {
        "id": "2tiTASm6ahPn"
      }
    },
    {
      "cell_type": "code",
      "source": [
        "# 1. Defining and Calling a Simple Function\n",
        "# The most basic way to define and call a function is to use the def keyword.\n",
        "# Defining the function\n",
        "def greet():\n",
        "    print(\"Hello, World!\")\n",
        "\n",
        "# Calling the function\n",
        "greet()  # Output: Hello, World!\n"
      ],
      "metadata": {
        "colab": {
          "base_uri": "https://localhost:8080/"
        },
        "id": "JO-iTUOXa-T2",
        "outputId": "1ab8a712-5b31-442e-88e2-fb3ebcd64eb6"
      },
      "execution_count": null,
      "outputs": [
        {
          "output_type": "stream",
          "name": "stdout",
          "text": [
            "Hello, World!\n"
          ]
        }
      ]
    },
    {
      "cell_type": "code",
      "source": [
        "# 2. Function with Parameters\n",
        "# You can define a function that takes parameters, and you can pass arguments to it when calling.\n",
        "# Defining the function with parameters\n",
        "def greet(name):\n",
        "    print(f\"Hello, {name}!\")\n",
        "\n",
        "# Calling the function with an argument\n",
        "greet(\"Alice\")  # Output: Hello, Alice!\n"
      ],
      "metadata": {
        "colab": {
          "base_uri": "https://localhost:8080/"
        },
        "id": "dMCoe_1SbG_V",
        "outputId": "cfcd1d2a-bbab-4c26-db3d-96903f6572c5"
      },
      "execution_count": null,
      "outputs": [
        {
          "output_type": "stream",
          "name": "stdout",
          "text": [
            "Hello, Alice!\n"
          ]
        }
      ]
    },
    {
      "cell_type": "code",
      "source": [
        "# Defining the function with a return value\n",
        "def add(a, b):\n",
        "    return a + b\n",
        "\n",
        "# Calling the function and storing the result\n",
        "result = add(3, 5)\n",
        "print(result)  # Output: 8\n"
      ],
      "metadata": {
        "colab": {
          "base_uri": "https://localhost:8080/"
        },
        "id": "4s4SnsQZbYBW",
        "outputId": "320d2268-61ca-43f0-af73-e59382acb5df"
      },
      "execution_count": null,
      "outputs": [
        {
          "output_type": "stream",
          "name": "stdout",
          "text": [
            "8\n"
          ]
        }
      ]
    },
    {
      "cell_type": "code",
      "source": [
        "# Defining a function with a default parameter\n",
        "def greet(name, message=\"Hello\"):\n",
        "    print(f\"{message}, {name}!\")\n",
        "\n",
        "# Calling the function with and without the second argument\n",
        "greet(\"Alice\")            # Output: Hello, Alice!\n",
        "greet(\"Bob\", \"Goodbye\")   # Output: Goodbye, Bob!\n"
      ],
      "metadata": {
        "colab": {
          "base_uri": "https://localhost:8080/"
        },
        "id": "3GGHh5jzbeTU",
        "outputId": "20adc57c-2862-452b-e44b-7e25a4f27d28"
      },
      "execution_count": null,
      "outputs": [
        {
          "output_type": "stream",
          "name": "stdout",
          "text": [
            "Hello, Alice!\n",
            "Goodbye, Bob!\n"
          ]
        }
      ]
    },
    {
      "cell_type": "code",
      "source": [
        "# Defining a function with *args\n",
        "def add_all(*args):\n",
        "    return sum(args)\n",
        "\n",
        "# Calling the function with multiple arguments\n",
        "print(add_all(1, 2, 3))         # Output: 6\n",
        "print(add_all(4, 5, 6, 7, 8))   # Output: 30\n"
      ],
      "metadata": {
        "colab": {
          "base_uri": "https://localhost:8080/"
        },
        "id": "iB16QqU6bmSB",
        "outputId": "ef170b3f-95a2-473e-9011-e3f19206234b"
      },
      "execution_count": null,
      "outputs": [
        {
          "output_type": "stream",
          "name": "stdout",
          "text": [
            "6\n",
            "30\n"
          ]
        }
      ]
    },
    {
      "cell_type": "code",
      "source": [
        "# Defining a function with **kwargs\n",
        "def display_info(**kwargs):\n",
        "    for key, value in kwargs.items():\n",
        "        print(f\"{key}: {value}\")\n",
        "\n",
        "# Calling the function with keyword arguments\n",
        "display_info(name=\"Alice\", age=30, city=\"New York\")\n",
        "# Output:\n",
        "# name: Alice\n",
        "# age: 30\n",
        "# city: New York\n"
      ],
      "metadata": {
        "colab": {
          "base_uri": "https://localhost:8080/"
        },
        "id": "RyjPdjw1bsR7",
        "outputId": "778acc93-2528-4b51-9b3b-e1ea85f57168"
      },
      "execution_count": null,
      "outputs": [
        {
          "output_type": "stream",
          "name": "stdout",
          "text": [
            "name: Alice\n",
            "age: 30\n",
            "city: New York\n"
          ]
        }
      ]
    },
    {
      "cell_type": "code",
      "source": [
        "# Defining a lambda function\n",
        "add = lambda a, b: a + b\n",
        "\n",
        "# Calling the lambda function\n",
        "print(add(3, 5))  # Output: 8\n"
      ],
      "metadata": {
        "colab": {
          "base_uri": "https://localhost:8080/"
        },
        "id": "XhzVJdSCbzWc",
        "outputId": "1ea4b824-8a7a-4534-f8dc-668af345f894"
      },
      "execution_count": null,
      "outputs": [
        {
          "output_type": "stream",
          "name": "stdout",
          "text": [
            "8\n"
          ]
        }
      ]
    },
    {
      "cell_type": "code",
      "source": [
        "# Defining a function with a nested function\n",
        "def outer_function(text):\n",
        "    def inner_function():\n",
        "        print(text)\n",
        "    inner_function()\n",
        "\n",
        "# Calling the outer function\n",
        "outer_function(\"Hello, World!\")  # Output: Hello, World!\n"
      ],
      "metadata": {
        "colab": {
          "base_uri": "https://localhost:8080/"
        },
        "id": "RUOdDi2cb6sm",
        "outputId": "5bba7d73-8562-43be-9e4d-87036151c119"
      },
      "execution_count": null,
      "outputs": [
        {
          "output_type": "stream",
          "name": "stdout",
          "text": [
            "Hello, World!\n"
          ]
        }
      ]
    },
    {
      "cell_type": "code",
      "source": [
        "# Defining a higher-order function\n",
        "def apply_func(func, value):\n",
        "    return func(value)\n",
        "\n",
        "# Calling it with a lambda function\n",
        "print(apply_func(lambda x: x**2, 4))  # Output: 16\n"
      ],
      "metadata": {
        "colab": {
          "base_uri": "https://localhost:8080/"
        },
        "id": "6X8dLVOkcA92",
        "outputId": "373aaa33-29fa-4966-f734-24b1c8d41086"
      },
      "execution_count": null,
      "outputs": [
        {
          "output_type": "stream",
          "name": "stdout",
          "text": [
            "16\n"
          ]
        }
      ]
    },
    {
      "cell_type": "code",
      "source": [
        "# Defining a function that takes another function as an argument\n",
        "def call_twice(func, value):\n",
        "    func(value)\n",
        "    func(value)\n",
        "\n",
        "# Defining a function to be passed as an argument\n",
        "def print_message(message):\n",
        "    print(message)\n",
        "\n",
        "# Calling the function\n",
        "call_twice(print_message, \"Hello!\")  # Output: Hello! Hello!\n"
      ],
      "metadata": {
        "colab": {
          "base_uri": "https://localhost:8080/"
        },
        "id": "SUQC_-R5cG0B",
        "outputId": "ea5ee2f6-96db-4b84-a86b-48e3e26891e2"
      },
      "execution_count": null,
      "outputs": [
        {
          "output_type": "stream",
          "name": "stdout",
          "text": [
            "Hello!\n",
            "Hello!\n"
          ]
        }
      ]
    },
    {
      "cell_type": "code",
      "source": [
        "# Defining a function with multiple parameters\n",
        "def person_info(name, age, city=\"Unknown\"):\n",
        "    print(f\"{name} is {age} years old and lives in {city}.\")\n",
        "\n",
        "# Calling the function with positional and keyword arguments\n",
        "person_info(\"Alice\", 30)                # Output: Alice is 30 years old and lives in Unknown.\n",
        "person_info(\"Bob\", 25, city=\"Boston\")   # Output: Bob is 25 years old and lives in Boston.\n"
      ],
      "metadata": {
        "colab": {
          "base_uri": "https://localhost:8080/"
        },
        "id": "Libd7hhccLBo",
        "outputId": "5969e129-aea9-427d-b622-51b0309ce6e9"
      },
      "execution_count": null,
      "outputs": [
        {
          "output_type": "stream",
          "name": "stdout",
          "text": [
            "Alice is 30 years old and lives in Unknown.\n",
            "Bob is 25 years old and lives in Boston.\n"
          ]
        }
      ]
    },
    {
      "cell_type": "code",
      "source": [
        "# Defining a recursive function\n",
        "def factorial(n):\n",
        "    if n == 1:\n",
        "        return 1\n",
        "    return n * factorial(n - 1)\n",
        "\n",
        "# Calling the recursive function\n",
        "print(factorial(5))  # Output: 120\n"
      ],
      "metadata": {
        "colab": {
          "base_uri": "https://localhost:8080/"
        },
        "id": "0TwcGtmgcVch",
        "outputId": "4ba2cb03-ad44-4972-95c1-4a0a144ad3c1"
      },
      "execution_count": null,
      "outputs": [
        {
          "output_type": "stream",
          "name": "stdout",
          "text": [
            "120\n"
          ]
        }
      ]
    },
    {
      "cell_type": "code",
      "source": [
        "# Defining a higher-order function\n",
        "def apply_func(func, value):\n",
        "    return func(value)\n",
        "\n",
        "# Calling it with a lambda function\n",
        "print(apply_func(lambda x: x**2, 4))  # Output: 16\n"
      ],
      "metadata": {
        "colab": {
          "base_uri": "https://localhost:8080/"
        },
        "id": "hKXKi_lCcf4f",
        "outputId": "27c68c4a-1aab-45a9-97e5-b129de622188"
      },
      "execution_count": null,
      "outputs": [
        {
          "output_type": "stream",
          "name": "stdout",
          "text": [
            "16\n"
          ]
        }
      ]
    },
    {
      "cell_type": "markdown",
      "source": [
        "### **What is the purpose of return statement in function: **"
      ],
      "metadata": {
        "id": "uTi5eR3Qcrtr"
      }
    },
    {
      "cell_type": "markdown",
      "source": [
        "1. Send a Value Back to the Caller:\n",
        "When a function is called, the return statement sends a value (or values) back to the point where the function was called. This value is called the return value.\n",
        "Without a return statement, the function will return None by default.\n",
        "2. Terminate Function Execution:\n",
        "The return statement also ends the execution of the function. Once return is executed, the function immediately stops, and the program continues after the function call."
      ],
      "metadata": {
        "id": "9RuoPSwhdNwK"
      }
    },
    {
      "cell_type": "code",
      "source": [
        "# Syntax\n",
        "# def function_name(parameters):\n",
        "#     # function body\n",
        "#     return value  # value is returned to the caller\n",
        "\n",
        "def add(a, b):\n",
        "    return a + b\n",
        "\n",
        "# The result of add(3, 5) is returned and stored in result\n",
        "result = add(3, 5)\n",
        "print(result)  # Output: 8\n"
      ],
      "metadata": {
        "colab": {
          "base_uri": "https://localhost:8080/"
        },
        "id": "6WMFtkqycpWY",
        "outputId": "27c82f74-9c5a-4cb6-c421-6cfe998c239d"
      },
      "execution_count": null,
      "outputs": [
        {
          "output_type": "stream",
          "name": "stdout",
          "text": [
            "8\n"
          ]
        }
      ]
    },
    {
      "cell_type": "code",
      "source": [
        "def check_even(number):\n",
        "    if number % 2 == 0:\n",
        "        return \"Even\"  # If the number is even, return and stop\n",
        "    return \"Odd\"  # This line is reached only if the number is not even\n",
        "\n",
        "print(check_even(4))  # Output: Even\n",
        "print(check_even(3))  # Output: Odd\n"
      ],
      "metadata": {
        "colab": {
          "base_uri": "https://localhost:8080/"
        },
        "id": "d9pPQ9sRdhW1",
        "outputId": "1120c3c5-2676-4117-bad3-b9fd8648293e"
      },
      "execution_count": null,
      "outputs": [
        {
          "output_type": "stream",
          "name": "stdout",
          "text": [
            "Even\n",
            "Odd\n"
          ]
        }
      ]
    },
    {
      "cell_type": "code",
      "source": [
        "##multiple values\n",
        "\n",
        "def divide(a, b):\n",
        "    quotient = a // b\n",
        "    remainder = a % b\n",
        "    return quotient, remainder  # Return both values as a tuple\n",
        "\n",
        "# Calling the function\n",
        "q, r = divide(10, 3)\n",
        "print(f\"Quotient: {q}, Remainder: {r}\")  # Output: Quotient: 3, Remainder: 1\n"
      ],
      "metadata": {
        "colab": {
          "base_uri": "https://localhost:8080/"
        },
        "id": "ZShNnFKjdmjc",
        "outputId": "3106832e-f47b-4299-99ec-f563ce75390e"
      },
      "execution_count": null,
      "outputs": [
        {
          "output_type": "stream",
          "name": "stdout",
          "text": [
            "Quotient: 3, Remainder: 1\n"
          ]
        }
      ]
    },
    {
      "cell_type": "markdown",
      "source": [
        "# Summery\n",
        "Send data back to the point where the function was called.\n",
        "Terminate the function execution once it’s reached.\n",
        "If no return is provided, the function returns None by default.\n",
        "Can return multiple values as a tuple."
      ],
      "metadata": {
        "id": "nRebOpcIdsZ8"
      }
    },
    {
      "cell_type": "markdown",
      "source": [
        "### **what are iterators in python and how do they differ from itarable**"
      ],
      "metadata": {
        "id": "E9WFmnw6d0aU"
      }
    },
    {
      "cell_type": "markdown",
      "source": [
        "In Python, iterators and iterables are related concepts, but they serve different roles in the context of loops and iteration.\n",
        "\n",
        "1. Iterable:\n",
        "An iterable is any Python object that can return its members one at a time. These are objects that can be looped over (iterated) in a for-loop. Common examples include lists, tuples, dictionaries, strings, and sets.\n",
        "\n",
        "Key characteristic: An iterable object implements the __iter__() method, which returns an iterator."
      ],
      "metadata": {
        "id": "CPsP4D077PKr"
      }
    },
    {
      "cell_type": "code",
      "source": [
        "my_list = [1, 2, 3]  # A list is iterable\n",
        "for item in my_list:\n",
        "    print(item)\n"
      ],
      "metadata": {
        "colab": {
          "base_uri": "https://localhost:8080/"
        },
        "id": "MZc37wAq7X5R",
        "outputId": "f172bb90-c21b-4986-94aa-5bbf5f3e0d7b"
      },
      "execution_count": null,
      "outputs": [
        {
          "output_type": "stream",
          "name": "stdout",
          "text": [
            "1\n",
            "2\n",
            "3\n"
          ]
        }
      ]
    },
    {
      "cell_type": "markdown",
      "source": [
        "2. Iterator:\n",
        "An iterator is an object that represents a stream of data, which can be iterated upon one element at a time. An iterator is created from an iterable using the iter() function.\n",
        "\n",
        "Key characteristics:\n",
        "Implements both the __iter__() method (which returns the iterator itself) and the __next__() method (which returns the next item from the stream)."
      ],
      "metadata": {
        "id": "g9lmnhHY7kBz"
      }
    },
    {
      "cell_type": "code",
      "source": [
        "my_list = [1, 2, 3]  # An iterable (list)\n",
        "my_iterator = iter(my_list)  # Converting the list into an iterator\n",
        "\n",
        "print(next(my_iterator))  # Outputs 1\n",
        "print(next(my_iterator))  # Outputs 2\n",
        "print(next(my_iterator))  # Outputs 3\n",
        "# Calling next() again will raise StopIteration since the iterator is exhausted\n"
      ],
      "metadata": {
        "colab": {
          "base_uri": "https://localhost:8080/"
        },
        "id": "TYWjGxpK7nUz",
        "outputId": "2f8dd78f-3117-4686-8312-94101f6bca41"
      },
      "execution_count": null,
      "outputs": [
        {
          "output_type": "stream",
          "name": "stdout",
          "text": [
            "1\n",
            "2\n",
            "3\n"
          ]
        }
      ]
    },
    {
      "cell_type": "markdown",
      "source": [
        "Difference Between Iterable and Iterator:\n",
        "Iterable: Can be looped over or converted into an iterator. Examples include lists, dictionaries, strings, etc. Iterable objects implement __iter__().\n",
        "Iterator: An object that keeps its state and knows its current position during iteration. It is returned by the iter() function and has both __iter__() and __next__() methods to fetch items sequentially.\n",
        "In summary:\n",
        "\n",
        "Iterable: An object capable of returning an iterator.\n",
        "Iterator: An object used to iterate over an iterable, fetching one item at a time."
      ],
      "metadata": {
        "id": "3X00w-G67tTz"
      }
    },
    {
      "cell_type": "markdown",
      "source": [
        "## **Explain the concept of generators in python and how they are defined**\n",
        "\n",
        "A generator is defined similarly to a normal function but uses the yield keyword instead of return. Each time yield is encountered, the function outputs the value and pauses its execution until the next value is requested."
      ],
      "metadata": {
        "id": "N4TvsW2d7zwd"
      }
    },
    {
      "cell_type": "code",
      "source": [
        "def my_generator():\n",
        "    yield 1\n",
        "    yield 2\n",
        "    yield 3\n",
        "\n",
        "gen = my_generator()  # Creates a generator object\n",
        "\n",
        "print(next(gen))  # Outputs 1\n",
        "print(next(gen))  # Outputs 2\n",
        "print(next(gen))  # Outputs 3\n",
        "# Calling next() again would raise StopIteration since all values have been yielded\n"
      ],
      "metadata": {
        "colab": {
          "base_uri": "https://localhost:8080/"
        },
        "id": "ASU86BhG8S-e",
        "outputId": "bcf13288-bd6d-46c0-be72-eeeec284410c"
      },
      "execution_count": null,
      "outputs": [
        {
          "output_type": "stream",
          "name": "stdout",
          "text": [
            "1\n",
            "2\n",
            "3\n"
          ]
        }
      ]
    },
    {
      "cell_type": "markdown",
      "source": [
        "Generator Expression:\n",
        "Similar to list comprehensions, you can create a generator in a single line using generator expressions. Unlike list comprehensions, they don’t generate the entire list in memory; instead, they produce items one at a time.\n",
        "\n"
      ],
      "metadata": {
        "id": "lLFOaPnD8bmA"
      }
    },
    {
      "cell_type": "code",
      "source": [
        "# Example of a Generator Expression:\n",
        "\n",
        "gen_exp = (x * x for x in range(5))\n",
        "\n",
        "for value in gen_exp:\n",
        "    print(value)"
      ],
      "metadata": {
        "colab": {
          "base_uri": "https://localhost:8080/"
        },
        "id": "-kFB5C9-8eXt",
        "outputId": "2d25a7e7-1efd-4bf5-dba7-cdcef448776c"
      },
      "execution_count": null,
      "outputs": [
        {
          "output_type": "stream",
          "name": "stdout",
          "text": [
            "0\n",
            "1\n",
            "4\n",
            "9\n",
            "16\n"
          ]
        }
      ]
    },
    {
      "cell_type": "markdown",
      "source": [
        "Difference Between Generators and Normal Functions:\n",
        "\n",
        "Return vs. Yield: A normal function returns a value and terminates, while a generator yields multiple values one by one and pauses its execution after each yield.\n",
        "\n",
        "Memory Usage: Generators are more memory efficient as they generate values on the fly rather than storing them in memory.\n",
        "\n",
        "Use Cases for Generators:\n",
        "Handling large datasets: Generators allow you to process large datasets (like logs, large files, or streams) one item at a time without loading everything into memory.\n",
        "Infinite sequences: Generators can model infinite sequences, as they only compute one value at a time.\n"
      ],
      "metadata": {
        "id": "zjFh3NTY8mRC"
      }
    },
    {
      "cell_type": "code",
      "source": [
        "def infinite_sequence():\n",
        "    n = 0\n",
        "    while True:\n",
        "        yield n\n",
        "        n += 1\n",
        "\n",
        "gen = infinite_sequence()\n",
        "print(next(gen))  # Outputs 0\n",
        "print(next(gen))  # Outputs 1\n",
        "print(next(gen))  # Outputs 2\n"
      ],
      "metadata": {
        "colab": {
          "base_uri": "https://localhost:8080/"
        },
        "id": "mqc0oxdN8uF3",
        "outputId": "b4b8f6b7-be92-4f17-d634-d631c3459bc2"
      },
      "execution_count": null,
      "outputs": [
        {
          "output_type": "stream",
          "name": "stdout",
          "text": [
            "0\n",
            "1\n",
            "2\n"
          ]
        }
      ]
    },
    {
      "cell_type": "markdown",
      "source": [
        "### **what are the advantages of using generators over reguler functions**"
      ],
      "metadata": {
        "id": "3C_MZVWS9Mq3"
      }
    },
    {
      "cell_type": "markdown",
      "source": [
        "Generators offer several advantages over regular functions in Python, especially when it comes to memory management, performance, and ease of handling certain types of data. Below are the key advantages of using generators over regular functions:"
      ],
      "metadata": {
        "id": "ozUG9sq79T6a"
      }
    },
    {
      "cell_type": "code",
      "source": [
        "# 1. Memory Efficiency (Lazy Evaluation):\n",
        "def create_list(n):\n",
        "    return [i for i in range(n)]\n",
        "\n",
        "my_list = create_list(10**6)  # Consumes memory for 1 million integers\n"
      ],
      "metadata": {
        "id": "4lc4JwUq9Qte"
      },
      "execution_count": null,
      "outputs": []
    },
    {
      "cell_type": "code",
      "source": [
        "def create_generator(n):\n",
        "    for i in range(n):\n",
        "        yield i\n",
        "\n",
        "my_gen = create_generator(10**6)  # Generates numbers lazily, without using a lot of memory\n"
      ],
      "metadata": {
        "id": "XcIfSstb9duL"
      },
      "execution_count": null,
      "outputs": []
    },
    {
      "cell_type": "markdown",
      "source": [
        "# **Summary of Key Advantages:**\n",
        "\n",
        "Memory Efficiency: Generators use memory more efficiently by yielding values one at a time rather than creating a complete data structure.\n",
        "\n",
        "Performance Gains: Generators can iterate over large datasets more efficiently because they generate items as needed.\n",
        "\n",
        "Infinite Sequence Handling: Generators can handle infinite sequences or very large datasets without consuming infinite memory.\n",
        "\n",
        "Pipeline Flexibility: Generators can be chained together to form data processing pipelines with minimal memory use.\n",
        "\n",
        "Simpler Code: Generators reduce boilerplate code and are easier to implement than custom iterator classes.\n",
        "\n",
        "Automatic State Management: Generators automatically handle their internal state, simplifying code that would otherwise require manual state handling.\n",
        "\n",
        "Faster First Output: Generators can start producing results immediately, unlike regular functions that must complete their entire computation."
      ],
      "metadata": {
        "id": "F5AUE8gb9pV_"
      }
    },
    {
      "cell_type": "markdown",
      "source": [
        "### **what is the lambda function in python and when it is typically used ?**"
      ],
      "metadata": {
        "id": "EQy7Ohc0AKro"
      }
    },
    {
      "cell_type": "markdown",
      "source": [
        "A lambda function in Python is an anonymous (unnamed) function defined using the lambda keyword. It can take any number of arguments but has a single expression. Lambda functions are typically used when a small function is needed for a short period of time, often as an argument to higher-order functions like map(), filter(), or sorted()."
      ],
      "metadata": {
        "id": "k8uk0hJTARab"
      }
    },
    {
      "cell_type": "code",
      "source": [
        "# Syntax\n",
        "# lambda arguments: expression\n",
        "\n",
        "#Example:\n",
        "# Using lambda to square a number\n",
        "square = lambda x: x * x\n",
        "print(square(5))  # Outputs: 25\n"
      ],
      "metadata": {
        "colab": {
          "base_uri": "https://localhost:8080/"
        },
        "id": "PIIEqS70AO3l",
        "outputId": "3bcd5075-9831-42ab-c91e-e5574092f713"
      },
      "execution_count": null,
      "outputs": [
        {
          "output_type": "stream",
          "name": "stdout",
          "text": [
            "25\n"
          ]
        }
      ]
    },
    {
      "cell_type": "markdown",
      "source": [
        "<!-- Typical Use Case:\n",
        "Lambda functions are used for concise, one-off operations, especially in situations where defining a full function is unnecessary. -->"
      ],
      "metadata": {
        "id": "UjqoCpq3AdCu"
      }
    },
    {
      "cell_type": "markdown",
      "source": [
        "### **Explain the purpose and Usuge of of Map() function in python**"
      ],
      "metadata": {
        "id": "2w1UGnyzAvuu"
      }
    },
    {
      "cell_type": "markdown",
      "source": [
        "Purpose of map() Function:\n",
        "The map() function in Python applies a given function to all the items of an iterable (like a list, tuple, etc.) and returns a map object (which is an iterator) containing the results. The purpose of map() is to process and transform data without writing explicit loops."
      ],
      "metadata": {
        "id": "HUkxx_ACAzXU"
      }
    },
    {
      "cell_type": "code",
      "source": [
        "# Syntax\n",
        "#  map(function, iterable, ...)\n",
        "\n",
        "# function: The function to apply to each item in the iterable.iterable: One or more iterables (like lists or tuples) whose items will be passed to the function.\n",
        "\n",
        "# Usage:\n",
        "# map() is typically used when you want to apply the same operation to all elements of an iterable and get a transformed result.\n",
        "# It allows you to avoid writing a manual loop, making the code more concise and functional in style.\n"
      ],
      "metadata": {
        "id": "K5JsMaWpA3K2"
      },
      "execution_count": null,
      "outputs": []
    },
    {
      "cell_type": "code",
      "source": [
        "#Example\n",
        "# Using map to square all numbers in a list\n",
        "numbers = [1, 2, 3, 4, 5]\n",
        "squared_numbers = map(lambda x: x * x, numbers)\n",
        "\n",
        "print(list(squared_numbers))  # Outputs: [1, 4, 9, 16, 25]\n",
        "\n",
        "# In this example:\n",
        "\n",
        "# The lambda function squares each number in the numbers list.\n",
        "# map() applies this function to every element and returns the result as a map object.\n",
        "# list() is used to convert the map object into a list to display the results.\n",
        "# Advantages:\n",
        "# It simplifies applying a function to every item in an iterable.\n",
        "# More concise than using explicit loops for transformations."
      ],
      "metadata": {
        "colab": {
          "base_uri": "https://localhost:8080/"
        },
        "id": "T0AAOCeIBL-d",
        "outputId": "7ac4e744-4be5-4656-b470-024886405166"
      },
      "execution_count": null,
      "outputs": [
        {
          "output_type": "stream",
          "name": "stdout",
          "text": [
            "[1, 4, 9, 16, 25]\n"
          ]
        }
      ]
    },
    {
      "cell_type": "markdown",
      "source": [
        "### **what is the difference between map(), reduce (), filter() function in python**"
      ],
      "metadata": {
        "id": "BYDdz8J7B_08"
      }
    },
    {
      "cell_type": "code",
      "source": [
        "# 1. map()\n",
        "# Purpose: Transforms each item in an iterable by applying a given function to each item.\n",
        "# Returns: A new iterable (map object) where each element is the result of applying the function.\n",
        "\n",
        "# Syntax:\n",
        "# map(function, iterable)\n",
        "numbers = [1, 2, 3]\n",
        "squared = map(lambda x: x * x, numbers)\n",
        "print(list(squared))\n",
        "\n"
      ],
      "metadata": {
        "colab": {
          "base_uri": "https://localhost:8080/"
        },
        "id": "5u5VEnKkCGbW",
        "outputId": "924111d3-69d3-4cd4-c582-c7266c5c86cd"
      },
      "execution_count": null,
      "outputs": [
        {
          "output_type": "stream",
          "name": "stdout",
          "text": [
            "[1, 4, 9]\n"
          ]
        }
      ]
    },
    {
      "cell_type": "code",
      "source": [
        "# 2. filter()\n",
        "# Purpose: Filters elements from an iterable based on whether they satisfy a given condition (returning True or False).\n",
        "# Returns: A new iterable (filter object) containing only the elements that satisfy the condition.\n",
        "# Syntax:\n",
        "# filter(function, iterable)\n",
        "\n",
        "# Example:\n",
        "numbers = [1, 2, 3, 4, 5]\n",
        "even = filter(lambda x: x % 2 == 0, numbers)\n",
        "print(list(even))"
      ],
      "metadata": {
        "colab": {
          "base_uri": "https://localhost:8080/"
        },
        "id": "HQrTkwl7CYOV",
        "outputId": "b5f772a1-b6eb-4834-d0a2-e2c6fd53e51f"
      },
      "execution_count": null,
      "outputs": [
        {
          "output_type": "stream",
          "name": "stdout",
          "text": [
            "[2, 4]\n"
          ]
        }
      ]
    },
    {
      "cell_type": "code",
      "source": [
        "# 3. reduce() (from functools module)\n",
        "# Purpose: Applies a function cumulatively to the items of an iterable, reducing it to a single value. It’s often used for aggregation, like summing or multiplying a list of values.\n",
        "# Returns: A single value that is the result of the reduction.\n",
        "\n",
        "# Syntax:\n",
        "\n",
        "# from functools import reduce\n",
        "# reduce(function, iterable)\n",
        "\n",
        "from functools import reduce\n",
        "numbers = [1, 2, 3, 4]\n",
        "product = reduce(lambda x, y: x * y, numbers)\n",
        "print(product)"
      ],
      "metadata": {
        "colab": {
          "base_uri": "https://localhost:8080/"
        },
        "id": "LYGbGOCVCpdC",
        "outputId": "6f6c35d0-7e71-4883-9549-650c728d1747"
      },
      "execution_count": null,
      "outputs": [
        {
          "output_type": "stream",
          "name": "stdout",
          "text": [
            "24\n"
          ]
        }
      ]
    },
    {
      "cell_type": "markdown",
      "source": [
        "Key Differences:\n",
        "\n",
        "map() applies a transformation to each item in the iterable.\n",
        "filter() selects elements based on a condition (filtering out the rest).\n",
        "reduce() aggregates the iterable into a single value by applying a function cumulatively.\n",
        "\n",
        "\n",
        "**Summary:**\n",
        "Use map() when you want to transform each element.\n",
        "Use filter() when you want to select elements based on a condition.\n",
        "Use reduce() when you want to reduce an iterable to a single cumulative value."
      ],
      "metadata": {
        "id": "e03Rlay3DEpm"
      }
    },
    {
      "cell_type": "code",
      "source": [
        "# Python practical questions:\n",
        "\n",
        "# 1.Python function that takes a list of numbers as input and returns the sum of all even numbers in the list:\n",
        "\n",
        "def sum_of_even_numbers(numbers):\n",
        "    # Using list comprehension to filter even numbers and sum them\n",
        "    return sum([num for num in numbers if num % 2 == 0])\n",
        "\n",
        "# Example usage:\n",
        "numbers = [10, 21, 4, 45, 66, 93, 11]\n",
        "result = sum_of_even_numbers(numbers)\n",
        "print(result)  # Outputs: 80 (10 + 4 + 66)\n"
      ],
      "metadata": {
        "colab": {
          "base_uri": "https://localhost:8080/"
        },
        "id": "5zrdwsvGFw6T",
        "outputId": "70417d5b-cb56-4406-92cb-5f969910ba6c"
      },
      "execution_count": null,
      "outputs": [
        {
          "output_type": "stream",
          "name": "stdout",
          "text": [
            "80\n"
          ]
        }
      ]
    },
    {
      "cell_type": "code",
      "source": [
        "# 2.function that accepts a string and returns its reverse:\n",
        "\n",
        "def reverse_string(input_string):\n",
        "    return input_string[::-1]\n",
        "\n",
        "# Example usage:\n",
        "result = reverse_string(\"Hello, World!\")\n",
        "print(result)  # Outputs: !dlroW ,olleH\n"
      ],
      "metadata": {
        "colab": {
          "base_uri": "https://localhost:8080/"
        },
        "id": "rukVidToGLiJ",
        "outputId": "afd5e7a9-a471-42f6-ab6e-838d70867180"
      },
      "execution_count": null,
      "outputs": [
        {
          "output_type": "stream",
          "name": "stdout",
          "text": [
            "!dlroW ,olleH\n"
          ]
        }
      ]
    },
    {
      "cell_type": "code",
      "source": [
        "# 3.Python function that takes a list of integers and returns a new list containing the squares of each number:\n",
        "def square_numbers(numbers):\n",
        "    # Using list comprehension to create a new list of squared numbers\n",
        "    return [num ** 2 for num in numbers]\n",
        "\n",
        "# Example usage:\n",
        "input_list = [1, 2, 3, 4, 5]\n",
        "squared_list = square_numbers(input_list)\n",
        "print(squared_list)  # Outputs: [1, 4, 9, 16, 25]\n"
      ],
      "metadata": {
        "colab": {
          "base_uri": "https://localhost:8080/"
        },
        "id": "FyFbRjPAKg3v",
        "outputId": "4d5eac84-c95c-4d96-82f5-8517b169ba0c"
      },
      "execution_count": null,
      "outputs": [
        {
          "output_type": "stream",
          "name": "stdout",
          "text": [
            "[1, 4, 9, 16, 25]\n"
          ]
        }
      ]
    },
    {
      "cell_type": "code",
      "source": [
        "# 4.python function that checks if a given number is prime or not from 1 to 200.\n",
        "def is_prime(num):\n",
        "    if num < 2:\n",
        "        return False\n",
        "    for i in range(2, int(num**0.5) + 1):\n",
        "        if num % i == 0:\n",
        "            return False\n",
        "    return True\n",
        "\n",
        "# Example usage:\n",
        "for number in range(1, 201):\n",
        "    if is_prime(number):\n",
        "        print(f\"{number} is a prime number.\")\n"
      ],
      "metadata": {
        "colab": {
          "base_uri": "https://localhost:8080/"
        },
        "id": "-yHuePFkKw4N",
        "outputId": "5231985d-86be-46d3-bc33-cccad819cbf1"
      },
      "execution_count": null,
      "outputs": [
        {
          "output_type": "stream",
          "name": "stdout",
          "text": [
            "2 is a prime number.\n",
            "3 is a prime number.\n",
            "5 is a prime number.\n",
            "7 is a prime number.\n",
            "11 is a prime number.\n",
            "13 is a prime number.\n",
            "17 is a prime number.\n",
            "19 is a prime number.\n",
            "23 is a prime number.\n",
            "29 is a prime number.\n",
            "31 is a prime number.\n",
            "37 is a prime number.\n",
            "41 is a prime number.\n",
            "43 is a prime number.\n",
            "47 is a prime number.\n",
            "53 is a prime number.\n",
            "59 is a prime number.\n",
            "61 is a prime number.\n",
            "67 is a prime number.\n",
            "71 is a prime number.\n",
            "73 is a prime number.\n",
            "79 is a prime number.\n",
            "83 is a prime number.\n",
            "89 is a prime number.\n",
            "97 is a prime number.\n",
            "101 is a prime number.\n",
            "103 is a prime number.\n",
            "107 is a prime number.\n",
            "109 is a prime number.\n",
            "113 is a prime number.\n",
            "127 is a prime number.\n",
            "131 is a prime number.\n",
            "137 is a prime number.\n",
            "139 is a prime number.\n",
            "149 is a prime number.\n",
            "151 is a prime number.\n",
            "157 is a prime number.\n",
            "163 is a prime number.\n",
            "167 is a prime number.\n",
            "173 is a prime number.\n",
            "179 is a prime number.\n",
            "181 is a prime number.\n",
            "191 is a prime number.\n",
            "193 is a prime number.\n",
            "197 is a prime number.\n",
            "199 is a prime number.\n"
          ]
        }
      ]
    },
    {
      "cell_type": "code",
      "source": [
        "# 5. to create an iterator class in Python that generates the Fibonacci sequence up to a specified number of terms:\n",
        "class FibonacciIterator:\n",
        "    def __init__(self, terms):\n",
        "        self.terms = terms  # Number of terms to generate\n",
        "        self.a, self.b = 0, 1  # Initial values for the Fibonacci sequence\n",
        "        self.current_term = 0  # Counter for the current term\n",
        "\n",
        "    def __iter__(self):\n",
        "        return self  # Return the iterator object itself\n",
        "\n",
        "    def __next__(self):\n",
        "        if self.current_term < self.terms:\n",
        "            next_value = self.a\n",
        "            # Update values for the next term in the Fibonacci sequence\n",
        "            self.a, self.b = self.b, self.a + self.b\n",
        "            self.current_term += 1\n",
        "            return next_value\n",
        "        else:\n",
        "            raise StopIteration  # Stop iteration if the limit is reached\n",
        "\n",
        "# Example usage:\n",
        "fibonacci = FibonacciIterator(10)  # Create an iterator for the first 10 Fibonacci numbers\n",
        "for number in fibonacci:\n",
        "    print(number)\n"
      ],
      "metadata": {
        "id": "x93daVhDLq1F",
        "outputId": "3e676eab-7d55-4f84-fd62-767e3e42f799",
        "colab": {
          "base_uri": "https://localhost:8080/"
        }
      },
      "execution_count": null,
      "outputs": [
        {
          "output_type": "stream",
          "name": "stdout",
          "text": [
            "0\n",
            "1\n",
            "1\n",
            "2\n",
            "3\n",
            "5\n",
            "8\n",
            "13\n",
            "21\n",
            "34\n"
          ]
        }
      ]
    },
    {
      "cell_type": "code",
      "source": [
        "# 6.Python generator function that yields the powers of 2 up to a specified exponent:\n",
        "def powers_of_two(exponent):\n",
        "    for i in range(exponent + 1):\n",
        "        yield 2 ** i\n",
        "\n",
        "# Example usage:\n",
        "for power in powers_of_two(5):  # Generates powers of 2 up to 2^5\n",
        "    print(power)\n"
      ],
      "metadata": {
        "colab": {
          "base_uri": "https://localhost:8080/"
        },
        "id": "aMNzIAhjM9xJ",
        "outputId": "396bf8d7-f634-4da9-a9e0-1d191267aaa0"
      },
      "execution_count": null,
      "outputs": [
        {
          "output_type": "stream",
          "name": "stdout",
          "text": [
            "1\n",
            "2\n",
            "4\n",
            "8\n",
            "16\n",
            "32\n"
          ]
        }
      ]
    },
    {
      "cell_type": "code",
      "source": [
        "# 7. implement a generator function that reads a file line by line and yields each line as a string:\n",
        "\n",
        "def read_file_line_by_line(file_path):\n",
        "    \"\"\"Generator function to read a file line by line.\"\"\"\n",
        "    with open(file_path, 'r') as file:  # Open the file in read mode\n",
        "        for line in file:  # Iterate over each line in the file\n",
        "            yield line.strip()  # Yield the line after stripping whitespace\n",
        "\n",
        "# Example usage:\n",
        "file_path = r'C:\\Users\\shivanand.uppe\\Desktop/apis.txt'\n",
        "for line in read_file_line_by_line(file_path):\n",
        "    print(line)  # Process each line as needed\n"
      ],
      "metadata": {
        "colab": {
          "base_uri": "https://localhost:8080/",
          "height": 327
        },
        "id": "IC749c-BODpj",
        "outputId": "ea881e79-ed42-4e4a-ecd2-82830dc998eb"
      },
      "execution_count": 50,
      "outputs": [
        {
          "output_type": "error",
          "ename": "FileNotFoundError",
          "evalue": "[Errno 2] No such file or directory: 'C:\\\\Users\\\\shivanand.uppe\\\\Desktop/apis.txt'",
          "traceback": [
            "\u001b[0;31m---------------------------------------------------------------------------\u001b[0m",
            "\u001b[0;31mFileNotFoundError\u001b[0m                         Traceback (most recent call last)",
            "\u001b[0;32m<ipython-input-50-f86fa8d12499>\u001b[0m in \u001b[0;36m<cell line: 11>\u001b[0;34m()\u001b[0m\n\u001b[1;32m      9\u001b[0m \u001b[0;31m# Example usage:\u001b[0m\u001b[0;34m\u001b[0m\u001b[0;34m\u001b[0m\u001b[0m\n\u001b[1;32m     10\u001b[0m \u001b[0mfile_path\u001b[0m \u001b[0;34m=\u001b[0m \u001b[0;34mr'C:\\Users\\shivanand.uppe\\Desktop/apis.txt'\u001b[0m\u001b[0;34m\u001b[0m\u001b[0;34m\u001b[0m\u001b[0m\n\u001b[0;32m---> 11\u001b[0;31m \u001b[0;32mfor\u001b[0m \u001b[0mline\u001b[0m \u001b[0;32min\u001b[0m \u001b[0mread_file_line_by_line\u001b[0m\u001b[0;34m(\u001b[0m\u001b[0mfile_path\u001b[0m\u001b[0;34m)\u001b[0m\u001b[0;34m:\u001b[0m\u001b[0;34m\u001b[0m\u001b[0;34m\u001b[0m\u001b[0m\n\u001b[0m\u001b[1;32m     12\u001b[0m     \u001b[0mprint\u001b[0m\u001b[0;34m(\u001b[0m\u001b[0mline\u001b[0m\u001b[0;34m)\u001b[0m  \u001b[0;31m# Process each line as needed\u001b[0m\u001b[0;34m\u001b[0m\u001b[0;34m\u001b[0m\u001b[0m\n",
            "\u001b[0;32m<ipython-input-50-f86fa8d12499>\u001b[0m in \u001b[0;36mread_file_line_by_line\u001b[0;34m(file_path)\u001b[0m\n\u001b[1;32m      3\u001b[0m \u001b[0;32mdef\u001b[0m \u001b[0mread_file_line_by_line\u001b[0m\u001b[0;34m(\u001b[0m\u001b[0mfile_path\u001b[0m\u001b[0;34m)\u001b[0m\u001b[0;34m:\u001b[0m\u001b[0;34m\u001b[0m\u001b[0;34m\u001b[0m\u001b[0m\n\u001b[1;32m      4\u001b[0m     \u001b[0;34m\"\"\"Generator function to read a file line by line.\"\"\"\u001b[0m\u001b[0;34m\u001b[0m\u001b[0;34m\u001b[0m\u001b[0m\n\u001b[0;32m----> 5\u001b[0;31m     \u001b[0;32mwith\u001b[0m \u001b[0mopen\u001b[0m\u001b[0;34m(\u001b[0m\u001b[0mfile_path\u001b[0m\u001b[0;34m,\u001b[0m \u001b[0;34m'r'\u001b[0m\u001b[0;34m)\u001b[0m \u001b[0;32mas\u001b[0m \u001b[0mfile\u001b[0m\u001b[0;34m:\u001b[0m  \u001b[0;31m# Open the file in read mode\u001b[0m\u001b[0;34m\u001b[0m\u001b[0;34m\u001b[0m\u001b[0m\n\u001b[0m\u001b[1;32m      6\u001b[0m         \u001b[0;32mfor\u001b[0m \u001b[0mline\u001b[0m \u001b[0;32min\u001b[0m \u001b[0mfile\u001b[0m\u001b[0;34m:\u001b[0m  \u001b[0;31m# Iterate over each line in the file\u001b[0m\u001b[0;34m\u001b[0m\u001b[0;34m\u001b[0m\u001b[0m\n\u001b[1;32m      7\u001b[0m             \u001b[0;32myield\u001b[0m \u001b[0mline\u001b[0m\u001b[0;34m.\u001b[0m\u001b[0mstrip\u001b[0m\u001b[0;34m(\u001b[0m\u001b[0;34m)\u001b[0m  \u001b[0;31m# Yield the line after stripping whitespace\u001b[0m\u001b[0;34m\u001b[0m\u001b[0;34m\u001b[0m\u001b[0m\n",
            "\u001b[0;31mFileNotFoundError\u001b[0m: [Errno 2] No such file or directory: 'C:\\\\Users\\\\shivanand.uppe\\\\Desktop/apis.txt'"
          ]
        }
      ]
    },
    {
      "cell_type": "code",
      "source": [
        "# 8. sort a list of tuples based on the second element of each tuple using a lambda function as the key in the sorted() function. Here's how to do it:\n",
        "\n",
        "# Sample list of tuples\n",
        "tuples_list = [(1, 'apple'), (2, 'banana'), (3, 'cherry')]\n",
        "\n",
        "# Sort the list based on the second element of each tuple\n",
        "sorted_list = sorted(tuples_list, key=lambda x: x[1])\n",
        "\n",
        "print(sorted_list)\n",
        "\n",
        "# Explanation:\n",
        "\n",
        "# sorted(tuples_list, key=lambda x: x[1]): The sorted() function sorts the tuples_list based on the second element (x[1]) of each tuple.\n",
        "\n",
        "# lambda x: x[1]: This lambda function takes a tuple x and returns its second element, which serves as the sorting key."
      ],
      "metadata": {
        "colab": {
          "base_uri": "https://localhost:8080/"
        },
        "id": "B4PWv8FHS8RR",
        "outputId": "e11eef62-8ce9-4b44-9d27-498745c0e9c5"
      },
      "execution_count": null,
      "outputs": [
        {
          "output_type": "stream",
          "name": "stdout",
          "text": [
            "[(1, 'apple'), (2, 'banana'), (3, 'cherry')]\n"
          ]
        }
      ]
    },
    {
      "cell_type": "code",
      "source": [
        "# Note: The sorted() function returns a new sorted list, leaving the original list unchanged. If you prefer to sort the original list in place, you can use the sort() method:\n",
        "\n",
        "# Sample list of tuples\n",
        "tuples_list = [(1, 'apple'), (2, 'banana'), (3, 'cherry')]\n",
        "\n",
        "# Sort the list in place based on the second element of each tuple\n",
        "tuples_list.sort(key=lambda x: x[1])\n",
        "\n",
        "print(tuples_list)\n"
      ],
      "metadata": {
        "colab": {
          "base_uri": "https://localhost:8080/"
        },
        "id": "JC6dYWITTIob",
        "outputId": "9c10f788-a892-4d6f-c071-c9c9b3597ca9"
      },
      "execution_count": null,
      "outputs": [
        {
          "output_type": "stream",
          "name": "stdout",
          "text": [
            "[(1, 'apple'), (2, 'banana'), (3, 'cherry')]\n"
          ]
        }
      ]
    },
    {
      "cell_type": "code",
      "source": [
        "# 9.Write a python program that uses map() to convert a list of temp from celsius to Farenhit\n",
        "\n",
        "# Function to convert Celsius to Fahrenheit\n",
        "def celsius_to_fahrenheit(celsius):\n",
        "    return (celsius * 9/5) + 32\n",
        "\n",
        "# List of temperatures in Celsius\n",
        "celsius_temperatures = [0, 20, 37, 100]\n",
        "\n",
        "# Use map() to apply the conversion function to each element in the list\n",
        "fahrenheit_temperatures = list(map(celsius_to_fahrenheit, celsius_temperatures))\n",
        "\n",
        "# Print the converted temperatures\n",
        "print(fahrenheit_temperatures)\n"
      ],
      "metadata": {
        "colab": {
          "base_uri": "https://localhost:8080/"
        },
        "id": "GEsE5K-dTcXp",
        "outputId": "cd0ea22f-208d-4d2b-9b26-93a96d6ed605"
      },
      "execution_count": null,
      "outputs": [
        {
          "output_type": "stream",
          "name": "stdout",
          "text": [
            "[32.0, 68.0, 98.6, 212.0]\n"
          ]
        }
      ]
    },
    {
      "cell_type": "code",
      "source": [
        "# 10. Create a python program that uses filer() to remove all the vowles from a given string\n",
        "\n",
        "# Function to check if a character is not a vowel\n",
        "def is_not_vowel(char):\n",
        "    vowels = 'aeiouAEIOU'\n",
        "    return char not in vowels\n",
        "\n",
        "# Input string\n",
        "input_string = \"Hello, World!\"\n",
        "\n",
        "# Use filter() to remove vowels from the string\n",
        "filtered_string = ''.join(filter(is_not_vowel, input_string))\n",
        "\n",
        "# Print the resulting string\n",
        "print(filtered_string)\n"
      ],
      "metadata": {
        "colab": {
          "base_uri": "https://localhost:8080/"
        },
        "id": "wCjVTfxzT7QZ",
        "outputId": "9b4473e3-3b5e-4643-9614-4d0f06825022"
      },
      "execution_count": null,
      "outputs": [
        {
          "output_type": "stream",
          "name": "stdout",
          "text": [
            "Hll, Wrld!\n"
          ]
        }
      ]
    }
  ]
}